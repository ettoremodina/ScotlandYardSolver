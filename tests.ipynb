{
 "cells": [
  {
   "cell_type": "code",
   "execution_count": 3,
   "id": "9f9a6c4f",
   "metadata": {},
   "outputs": [
    {
     "name": "stdout",
     "output_type": "stream",
     "text": [
      "<cops_and_robbers.storage.game_loader.GameRecord object at 0x0000022DD5219CD0>\n"
     ]
    }
   ],
   "source": [
    "import tkinter as tk\n",
    "from tkinter import ttk, messagebox\n",
    "import networkx as nx\n",
    "import sys\n",
    "import os\n",
    "import random\n",
    "import pickle\n",
    "\n",
    "\n",
    "\n",
    "from cops_and_robbers.ui.game_visualizer import GameVisualizer\n",
    "from cops_and_robbers.core.game import Game, Player, ScotlandYardGame, TicketType, TransportType\n",
    "from cops_and_robbers.examples.example_games import *\n",
    "game_path = \"C:\\\\Users\\\\modin\\\\Desktop\\\\Ettore\\\\programming\\\\ScotlandYardRL\\\\saved_games\\\\games\\\\game_20250719_175113.pkl\"\n",
    "\n",
    "with open(game_path, \"rb\") as f:\n",
    "    game = pickle.load(f)\n",
    "    print(game)"
   ]
  },
  {
   "cell_type": "code",
   "execution_count": 4,
   "id": "c9ef86ef",
   "metadata": {},
   "outputs": [
    {
     "data": {
      "text/plain": [
       "{0: {<TicketType.TAXI: 'taxi'>: 1,\n",
       "  <TicketType.BUS: 'bus'>: 0,\n",
       "  <TicketType.UNDERGROUND: 'underground'>: 1},\n",
       " 1: {<TicketType.TAXI: 'taxi'>: 1,\n",
       "  <TicketType.BUS: 'bus'>: 1,\n",
       "  <TicketType.UNDERGROUND: 'underground'>: 0}}"
      ]
     },
     "execution_count": 4,
     "metadata": {},
     "output_type": "execute_result"
    }
   ],
   "source": [
    "game.game_history[2].detective_tickets"
   ]
  },
  {
   "cell_type": "code",
   "execution_count": 5,
   "id": "995884c3",
   "metadata": {},
   "outputs": [
    {
     "data": {
      "text/plain": [
       "[{'turn_number': 0,\n",
       "  'player': 'mr_x',\n",
       "  'detective_moves': [],\n",
       "  'mr_x_moves': [{'edge': (9, 7),\n",
       "    'transport_used': 2,\n",
       "    'ticket_used': 'bus',\n",
       "    'double_move_part': 0}],\n",
       "  'double_move_used': False},\n",
       " {'turn_number': 1,\n",
       "  'player': 'cops',\n",
       "  'detective_moves': [{'detective_id': 0,\n",
       "    'edge': (2, 6),\n",
       "    'ticket_used': 'bus',\n",
       "    'stayed': False},\n",
       "   {'detective_id': 1,\n",
       "    'edge': (1, 5),\n",
       "    'ticket_used': 'underground',\n",
       "    'stayed': False}],\n",
       "  'mr_x_moves': [],\n",
       "  'double_move_used': False},\n",
       " {'turn_number': 1,\n",
       "  'player': 'mr_x',\n",
       "  'detective_moves': [],\n",
       "  'mr_x_moves': [{'edge': (7, 6),\n",
       "    'transport_used': 2,\n",
       "    'ticket_used': 'bus',\n",
       "    'double_move_part': 0}],\n",
       "  'double_move_used': False}]"
      ]
     },
     "execution_count": 5,
     "metadata": {},
     "output_type": "execute_result"
    }
   ],
   "source": [
    "game.ticket_history"
   ]
  },
  {
   "cell_type": "code",
   "execution_count": 4,
   "id": "616e9ede",
   "metadata": {},
   "outputs": [
    {
     "data": {
      "text/plain": [
       "{'game_id': 'game_20250719_173909',\n",
       " 'created_at': '2025-07-19T17:39:09.805440',\n",
       " 'graph_type': 'custom',\n",
       " 'num_nodes': 10,\n",
       " 'num_edges': 37,\n",
       " 'num_cops': 2,\n",
       " 'total_turns': 2,\n",
       " 'winner': 'cops',\n",
       " 'game_completed': True,\n",
       " 'has_ticket_system': True}"
      ]
     },
     "execution_count": 4,
     "metadata": {},
     "output_type": "execute_result"
    }
   ],
   "source": [
    "game.metadata"
   ]
  }
 ],
 "metadata": {
  "kernelspec": {
   "display_name": "MainEnv",
   "language": "python",
   "name": "python3"
  },
  "language_info": {
   "codemirror_mode": {
    "name": "ipython",
    "version": 3
   },
   "file_extension": ".py",
   "mimetype": "text/x-python",
   "name": "python",
   "nbconvert_exporter": "python",
   "pygments_lexer": "ipython3",
   "version": "3.12.4"
  }
 },
 "nbformat": 4,
 "nbformat_minor": 5
}
